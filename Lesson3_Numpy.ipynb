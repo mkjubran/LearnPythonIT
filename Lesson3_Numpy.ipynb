{
  "nbformat": 4,
  "nbformat_minor": 0,
  "metadata": {
    "colab": {
      "name": "Lesson3_Numpy.ipynb",
      "provenance": [],
      "collapsed_sections": [
        "kCj8sLoQlCNC",
        "LAfYmMgdlCPu"
      ],
      "toc_visible": true,
      "include_colab_link": true
    },
    "kernelspec": {
      "name": "python3",
      "display_name": "Python 3"
    }
  },
  "cells": [
    {
      "cell_type": "markdown",
      "metadata": {
        "id": "view-in-github",
        "colab_type": "text"
      },
      "source": [
        "<a href=\"https://colab.research.google.com/github/mkjubran/LearnPythonIT/blob/main/Lesson3_Numpy.ipynb\" target=\"_parent\"><img src=\"https://colab.research.google.com/assets/colab-badge.svg\" alt=\"Open In Colab\"/></a>"
      ]
    },
    {
      "cell_type": "markdown",
      "metadata": {
        "id": "6HrFHymKleNO"
      },
      "source": [
        "<!--NAVIGATION-->\n",
        "\n",
        "\n",
        "<a href=\"https://colab.research.google.com/github/smabb/p/blob/master/Lesson3_Numpy.ipynb\"><img align=\"left\" src=\"https://colab.research.google.com/assets/colab-badge.svg\" alt=\"Open in Colab\" title=\"Open and Execute in Google Colaboratory\"></a>\n",
        "\n",
        "|                                                  -                                                  |                                                  -                                                  |                                                  -                                                  |\n",
        "|-----------------------------------------------------------------------------------------------------|-----------------------------------------------------------------------------------------------------|-----------------------------------------------------------------------------------------------------|\n",
        "|               [Exercise 1 (rows and columns)](<#Exercise-1-(rows-and-columns&#41;>)               |         [Exercise 2 (row and column vectors)](<#Exercise-2-(row-and-column-vectors&#41;>)         |                        [Exercise 3 (diamond)](<#Exercise-3-(diamond&#41;>)                        |\n",
        "|                 [Exercise 4 (multiplication table revisited)](<#Exercise-4-(multiplication-table-revisited&#41;>)               |         [Exercise 5 (column comparison)](<#Exercise-5-(column-comparison&#41;>)      | [Exercise 6 (first half second half)](<#Exercise-6-(first-half-second-half&#41;>)                        |\n",
        "|                 [Exercise 7 (most frequent first)](<#Exercise-7-(most-frequent-first&#41;>)    |\n",
        "|           \n",
        "\n"
      ]
    },
    {
      "cell_type": "markdown",
      "metadata": {
        "id": "m8DKBD91lCJr"
      },
      "source": [
        "# NumPy\n",
        "\n",
        "[NumPy](https://docs.scipy.org/doc/numpy/) is a Python library for handling multi-dimensional arrays. It contains both the data structures needed for the storing and accessing arrays, and operations and functions for computation using these arrays. Although the arrays are usually used for storing numbers, other type of data can be stored as well, such as strings. Unlike lists in core Python, NumPy's fundamental data structure, the array, must have the same data type for all its elements. The homogeneity of arrays allows highly optimized functions that use arrays as their inputs and outputs.\n",
        "\n",
        "There are several uses for high-dimensional arrays in data analysis. For instance, they can be used to:\n",
        "\n",
        "* store matrices, solve systems of linear equations, find eigenvalues/vectors, find matrix decompositions, and solve other problems familiar from linear algebra\n",
        "* store multi-dimensional measurement data. For example, an element `a[i,j]` in a 2-dimensional array might store the temperature $t_{ij}$ measured at coordinates i, j on a 2-dimension surface.\n",
        "* images and videos can be represented as NumPy arrays:\n",
        "\n",
        "  * a gray-scale image can be represented as a two dimensional array\n",
        "  * a color image can be represented as a three dimensional image, the third dimension contains the color components red, green, and blue\n",
        "  * a color video can be represented as a four dimensional array\n",
        "* a 2-dimensional table might store a sequence of *samples*, and each sample might be divided into *features*. For example, we could measure the weather conditions once per day, and the conditions could include the temperature, direction and speed of wind, and the amount of rain. Then we would have one sample per day, and the features would be the temperature, wind, and rain. In the standard representation of this kind of tabular data, the rows corresponds to samples and the columns correspond to features. We see more of this kind of data in the chapters on Pandas .\n",
        "\n",
        "In this chapter we will go through:\n",
        "\n",
        "* Creation of arrays\n",
        "* Array types and attributes\n",
        "* Accessing arrays with indexing and slicing\n",
        "* Reshaping of arrays\n",
        "* Combining and splitting arrays\n",
        "* Fast operations on arrays\n",
        "* Aggregations of arrays\n",
        "* Rules of binary array operations\n"
      ]
    },
    {
      "cell_type": "markdown",
      "metadata": {
        "id": "kJ8jf2QVlCJz"
      },
      "source": [
        "We start by importing the NumPy library, and we use the standard abbreviation `np` for it."
      ]
    },
    {
      "cell_type": "code",
      "metadata": {
        "id": "PIxtpzDUlCJ4"
      },
      "source": [
        "#1\n",
        "import numpy as np"
      ],
      "execution_count": null,
      "outputs": []
    },
    {
      "cell_type": "markdown",
      "metadata": {
        "id": "eAajY57xlCKL"
      },
      "source": [
        "## Creation of arrays\n",
        "There are several ways of creating NumPy arrays. One way is to give a (nested) list as a parameter to the `array` constructor:"
      ]
    },
    {
      "cell_type": "code",
      "metadata": {
        "id": "N_1fHK8WlCKS",
        "colab": {
          "base_uri": "https://localhost:8080/",
          "height": 35
        },
        "outputId": "bd8c6871-2b10-4dd9-fe54-2752e4dcaaf1"
      },
      "source": [
        "#2\n",
        "np.array([1,2,3])   "
      ],
      "execution_count": null,
      "outputs": [
        {
          "output_type": "execute_result",
          "data": {
            "text/plain": [
              "array([1, 2, 3])"
            ]
          },
          "metadata": {
            "tags": []
          },
          "execution_count": 27
        }
      ]
    },
    {
      "cell_type": "markdown",
      "metadata": {
        "id": "Vp85ZpCBlCKd"
      },
      "source": [
        "Note that leaving out the brackets from the above expression, i.e. calling `np.array(1,2,3)` will result in an error."
      ]
    },
    {
      "cell_type": "markdown",
      "metadata": {
        "id": "_f7Uid8olCKf"
      },
      "source": [
        "Two dimensional array can be given by listing the rows of the array:"
      ]
    },
    {
      "cell_type": "code",
      "metadata": {
        "id": "LUkxH4vulCKh",
        "colab": {
          "base_uri": "https://localhost:8080/",
          "height": 54
        },
        "outputId": "0d9c72e9-fdce-4963-a4aa-aa760ba0feb7"
      },
      "source": [
        "#3\n",
        "np.array([[1,2,3], [4,5,6]])"
      ],
      "execution_count": null,
      "outputs": [
        {
          "output_type": "execute_result",
          "data": {
            "text/plain": [
              "array([[1, 2, 3],\n",
              "       [4, 5, 6]])"
            ]
          },
          "metadata": {
            "tags": []
          },
          "execution_count": 28
        }
      ]
    },
    {
      "cell_type": "markdown",
      "metadata": {
        "id": "HO7g9p56lCKp"
      },
      "source": [
        "Similarly, three dimensional array can be described as a list of lists of lists:"
      ]
    },
    {
      "cell_type": "code",
      "metadata": {
        "id": "Rh7FpIzplCKt",
        "colab": {
          "base_uri": "https://localhost:8080/",
          "height": 109
        },
        "outputId": "133056ca-e065-4016-d619-d444bf68b093"
      },
      "source": [
        "#4\n",
        "np.array([[[1,2], [3,4]], [[5,6], [7,8]]])"
      ],
      "execution_count": null,
      "outputs": [
        {
          "output_type": "execute_result",
          "data": {
            "text/plain": [
              "array([[[1, 2],\n",
              "        [3, 4]],\n",
              "\n",
              "       [[5, 6],\n",
              "        [7, 8]]])"
            ]
          },
          "metadata": {
            "tags": []
          },
          "execution_count": 31
        }
      ]
    },
    {
      "cell_type": "markdown",
      "metadata": {
        "id": "S9bUBwUnlCKz"
      },
      "source": [
        "There are some helper functions to create common types of arrays:"
      ]
    },
    {
      "cell_type": "code",
      "metadata": {
        "id": "w2Be1CKwlCK0",
        "colab": {
          "base_uri": "https://localhost:8080/",
          "height": 72
        },
        "outputId": "d889868d-e4cc-486a-b998-07d0905d4b1c"
      },
      "source": [
        "np.zeros((3,4))"
      ],
      "execution_count": null,
      "outputs": [
        {
          "output_type": "execute_result",
          "data": {
            "text/plain": [
              "array([[0., 0., 0., 0.],\n",
              "       [0., 0., 0., 0.],\n",
              "       [0., 0., 0., 0.]])"
            ]
          },
          "metadata": {
            "tags": []
          },
          "execution_count": 30
        }
      ]
    },
    {
      "cell_type": "markdown",
      "metadata": {
        "id": "-VQocrrDlCK_"
      },
      "source": [
        "To specify that elements are `int`s instead of `float`s, use the parameter `dtype`:"
      ]
    },
    {
      "cell_type": "code",
      "metadata": {
        "id": "ehyIWJbSlCLC",
        "colab": {
          "base_uri": "https://localhost:8080/",
          "height": 72
        },
        "outputId": "ffb7d7a4-ed50-4faf-e983-c540daa9c166"
      },
      "source": [
        "np.zeros((3,4), dtype=int)"
      ],
      "execution_count": null,
      "outputs": [
        {
          "output_type": "execute_result",
          "data": {
            "text/plain": [
              "array([[0, 0, 0, 0],\n",
              "       [0, 0, 0, 0],\n",
              "       [0, 0, 0, 0]])"
            ]
          },
          "metadata": {
            "tags": []
          },
          "execution_count": 31
        }
      ]
    },
    {
      "cell_type": "markdown",
      "metadata": {
        "id": "dnpMgvM4lCLH"
      },
      "source": [
        "Similarly `ones` initializes all elements to one, `full` initializes all elements to a specified value, and `empty` leaves the elements uninitialized:"
      ]
    },
    {
      "cell_type": "code",
      "metadata": {
        "id": "uuHJc8OSlCLI",
        "colab": {
          "base_uri": "https://localhost:8080/",
          "height": 54
        },
        "outputId": "bd6f5ba0-651e-4f2e-cdfb-11b349a01bd7"
      },
      "source": [
        "np.ones((2,3))"
      ],
      "execution_count": null,
      "outputs": [
        {
          "output_type": "execute_result",
          "data": {
            "text/plain": [
              "array([[1., 1., 1.],\n",
              "       [1., 1., 1.]])"
            ]
          },
          "metadata": {
            "tags": []
          },
          "execution_count": 32
        }
      ]
    },
    {
      "cell_type": "code",
      "metadata": {
        "id": "h0hzRJlslCLT",
        "colab": {
          "base_uri": "https://localhost:8080/",
          "height": 54
        },
        "outputId": "a6fb2188-a9b7-4ac4-b6a9-300491440fcc"
      },
      "source": [
        "np.full((2,3), fill_value=7)"
      ],
      "execution_count": null,
      "outputs": [
        {
          "output_type": "execute_result",
          "data": {
            "text/plain": [
              "array([[7, 7, 7],\n",
              "       [7, 7, 7]])"
            ]
          },
          "metadata": {
            "tags": []
          },
          "execution_count": 33
        }
      ]
    },
    {
      "cell_type": "markdown",
      "metadata": {
        "id": "ebBpk5NAlCLi"
      },
      "source": [
        "The `eye` function creates the identity matrix, that is, a matrix with elements on the diagonal are set to one, and non-diagonal elements are set to zero:"
      ]
    },
    {
      "cell_type": "code",
      "metadata": {
        "id": "G19Sikn2lCLk",
        "colab": {
          "base_uri": "https://localhost:8080/",
          "height": 109
        },
        "outputId": "43a77a9d-b3db-4f49-b58c-4cb6285f9bea"
      },
      "source": [
        "np.eye(5, dtype=int)"
      ],
      "execution_count": null,
      "outputs": [
        {
          "output_type": "execute_result",
          "data": {
            "text/plain": [
              "array([[1, 0, 0, 0, 0],\n",
              "       [0, 1, 0, 0, 0],\n",
              "       [0, 0, 1, 0, 0],\n",
              "       [0, 0, 0, 1, 0],\n",
              "       [0, 0, 0, 0, 1]])"
            ]
          },
          "metadata": {
            "tags": []
          },
          "execution_count": 4
        }
      ]
    },
    {
      "cell_type": "markdown",
      "metadata": {
        "id": "x3mC6BLPlCLo"
      },
      "source": [
        "The `arange` function works like the `range` function, but produces an array instead of a list."
      ]
    },
    {
      "cell_type": "code",
      "metadata": {
        "id": "UxWjoSpFlCLp",
        "colab": {
          "base_uri": "https://localhost:8080/",
          "height": 35
        },
        "outputId": "5fca00fe-5864-450a-e853-1300334f488c"
      },
      "source": [
        "np.arange(0,10,2)"
      ],
      "execution_count": null,
      "outputs": [
        {
          "output_type": "execute_result",
          "data": {
            "text/plain": [
              "array([0, 2, 4, 6, 8])"
            ]
          },
          "metadata": {
            "tags": []
          },
          "execution_count": 5
        }
      ]
    },
    {
      "cell_type": "markdown",
      "metadata": {
        "id": "3rfuq4OalCL3"
      },
      "source": [
        "### Arrays with random elements\n",
        "\n",
        "To test our programs we might use real data as input. However, real data is not always available, and it may take time to gather. We could instead generate random numbers to use as substitute. They can be generated really easily with NumPy, and can be sampled from several different distributions, of which we mention below only a few. Random data can simulate real data better than, for example, ranges or constant arrays. Sometimes we also need random numbers in our programs to choose a subset of real data (sampling). NumPy can easily produce arrays of wanted shape filled with random numbers. Below are few examples."
      ]
    },
    {
      "cell_type": "code",
      "metadata": {
        "id": "VGFWleZ4lCL4",
        "colab": {
          "base_uri": "https://localhost:8080/",
          "height": 72
        },
        "outputId": "9481cf40-e469-45fb-e422-10eaa061eeb8"
      },
      "source": [
        "#5\n",
        "np.random.random((3,4))          # Elements are uniformly distributed from half-open interval [0.0,1.0)"
      ],
      "execution_count": null,
      "outputs": [
        {
          "output_type": "execute_result",
          "data": {
            "text/plain": [
              "array([[0.80043085, 0.89877704, 0.04152819, 0.11014208],\n",
              "       [0.52079597, 0.94762113, 0.31677617, 0.0467695 ],\n",
              "       [0.99369515, 0.70044009, 0.90097943, 0.4810772 ]])"
            ]
          },
          "metadata": {
            "tags": []
          },
          "execution_count": 7
        }
      ]
    },
    {
      "cell_type": "code",
      "metadata": {
        "id": "NiLKbRRolCMA",
        "colab": {
          "base_uri": "https://localhost:8080/",
          "height": 72
        },
        "outputId": "dd544dfd-9ef6-49fb-bfd8-938d848e8266"
      },
      "source": [
        "#7\n",
        "np.random.randint(-2, 10, (3,4))  # Elements are uniformly distributed integers from the half-open interval [-2,10)"
      ],
      "execution_count": null,
      "outputs": [
        {
          "output_type": "execute_result",
          "data": {
            "text/plain": [
              "array([[5, 1, 8, 5],\n",
              "       [2, 4, 8, 0],\n",
              "       [8, 5, 7, 5]])"
            ]
          },
          "metadata": {
            "tags": []
          },
          "execution_count": 7
        }
      ]
    },
    {
      "cell_type": "markdown",
      "metadata": {
        "id": "crX29eEzlCME"
      },
      "source": [
        "Sometimes it is useful to be able to recreate exactly the same data in every run of our program. For example, if there is a bug in our program, which manifests itself only with certain input, then to debug our program it needs to behave deterministically. We can create random numbers deterministically, if we always start from the same starting point. This starting point is usually an integer, and we call it a *seed*. Example of use:"
      ]
    },
    {
      "cell_type": "code",
      "metadata": {
        "id": "4WjQKGg0lCMF",
        "colab": {
          "base_uri": "https://localhost:8080/",
          "height": 72
        },
        "outputId": "4581199c-12a0-493d-b41d-32ff8aea7f64"
      },
      "source": [
        "#8\n",
        "np.random.seed(0)\n",
        "print(np.random.randint(0, 100, 10))\n",
        "print(np.random.normal(0, 1, 10))"
      ],
      "execution_count": null,
      "outputs": [
        {
          "output_type": "stream",
          "text": [
            "[44 47 64 67 67  9 83 21 36 87]\n",
            "[ 1.26611853 -0.50587654  2.54520078  1.08081191  0.48431215  0.57914048\n",
            " -0.18158257  1.41020463 -0.37447169  0.27519832]\n"
          ],
          "name": "stdout"
        }
      ]
    },
    {
      "cell_type": "markdown",
      "metadata": {
        "id": "W8z3gkWblCMN"
      },
      "source": [
        "If you run the above cell multiple times, it will always give the same numbers, unlike the earlier examples. Try rerunning them now!"
      ]
    },
    {
      "cell_type": "markdown",
      "metadata": {
        "id": "xtU9MG4KlCMP"
      },
      "source": [
        "The call to `np.random.seed` initializes the *global* random number generator. The calls `np.random.random`, `np.random.normal`, etc all use this global random number generator. It is however possible to create new random number generators, and use those to sample random numbers from a distribution. Example on usage:"
      ]
    },
    {
      "cell_type": "code",
      "metadata": {
        "id": "RmIbXKkglCMR",
        "colab": {
          "base_uri": "https://localhost:8080/",
          "height": 35
        },
        "outputId": "88726537-63ce-4e95-a1ca-6e8741b8ffa0"
      },
      "source": [
        "new_generator = np.random.RandomState(seed=123)  \n",
        "new_generator.randint(0, 100, 10)"
      ],
      "execution_count": null,
      "outputs": [
        {
          "output_type": "execute_result",
          "data": {
            "text/plain": [
              "array([66, 92, 98, 17, 83, 57, 86, 97, 96, 47])"
            ]
          },
          "metadata": {
            "tags": []
          },
          "execution_count": 15
        }
      ]
    },
    {
      "cell_type": "markdown",
      "metadata": {
        "id": "fGCFsB5_lCMc"
      },
      "source": [
        "## Array types and attributes\n",
        "\n",
        "An array has several attributes: `ndim` tells the number of dimensions, `shape` tells the size in each dimension, `size` tells the number of elements, and `dtype` tells the element type. Let's create a helper function to explore these attributes:"
      ]
    },
    {
      "cell_type": "code",
      "metadata": {
        "id": "GUJQPDBolCMe"
      },
      "source": [
        "#9\n",
        "def info(name, a):\n",
        "    print(f\"{name} has dim {a.ndim}, shape {a.shape}, size {a.size}, and dtype {a.dtype}:\")\n",
        "    print(a)"
      ],
      "execution_count": null,
      "outputs": []
    },
    {
      "cell_type": "code",
      "metadata": {
        "id": "plQs0-lDlCMg",
        "colab": {
          "base_uri": "https://localhost:8080/",
          "height": 72
        },
        "outputId": "c237b021-89c0-401f-93fc-94057be58914"
      },
      "source": [
        "b=np.array([[0,1], [2,3]])\n",
        "info(\"b\", b)"
      ],
      "execution_count": null,
      "outputs": [
        {
          "output_type": "stream",
          "text": [
            "b has dim 2, shape (2, 2), size 4, and dtype int64:\n",
            "[[0 1]\n",
            " [2 3]]\n"
          ],
          "name": "stdout"
        }
      ]
    },
    {
      "cell_type": "code",
      "metadata": {
        "id": "8HZ80fAMlCMi",
        "colab": {
          "base_uri": "https://localhost:8080/",
          "height": 146
        },
        "outputId": "0e666b1c-4322-4f3a-f694-5ea492cf204a"
      },
      "source": [
        "c=np.array([[[0,1], [2,3]], [[4,6], [5,6]]])          # Creates a 3-dimensional array\n",
        "info(\"c\", c)\n"
      ],
      "execution_count": null,
      "outputs": [
        {
          "output_type": "stream",
          "text": [
            "c has dim 3, shape (2, 2, 2), size 8, and dtype int64:\n",
            "[[[0 1]\n",
            "  [2 3]]\n",
            "\n",
            " [[4 6]\n",
            "  [5 6]]]\n",
            "6\n"
          ],
          "name": "stdout"
        }
      ]
    },
    {
      "cell_type": "markdown",
      "metadata": {
        "id": "4D83Z8FkpG8c"
      },
      "source": [
        "You can think of axis-0 denoting which of the 2x2 “sheets” to select from. Then axis-1 specifies the row along the sheets, and axis-2 the column within the row:\n",
        "   |       -- axis-2 ->\n",
        "   |    |\n",
        "   |  axis-1 [0, 1]\n",
        "   |    |    [2, 3]\n",
        "   |    V\n",
        "axis-0\n",
        "   |      -- axis-2 ->\n",
        "   |    |\n",
        "   |  axis-1 [4, 5]\n",
        "   |    |    [6, 7]\n",
        "   V    V"
      ]
    },
    {
      "cell_type": "code",
      "metadata": {
        "id": "ryZPDTvilCMl",
        "colab": {
          "base_uri": "https://localhost:8080/",
          "height": 54
        },
        "outputId": "e8d62fdb-ef27-4d6d-9b6a-376015678e4c"
      },
      "source": [
        "d=np.array([[1,2,3,4]])                # a row vector\n",
        "info(\"d\", d)"
      ],
      "execution_count": null,
      "outputs": [
        {
          "output_type": "stream",
          "text": [
            "d has dim 2, shape (1, 4), size 4, and dtype int64:\n",
            "[[1 2 3 4]]\n"
          ],
          "name": "stdout"
        }
      ]
    },
    {
      "cell_type": "markdown",
      "metadata": {
        "id": "o0VFTWg-lCMt"
      },
      "source": [
        "## Indexing, slicing and reshaping"
      ]
    },
    {
      "cell_type": "markdown",
      "metadata": {
        "id": "hY8l-FAmlCMv"
      },
      "source": [
        "### Indexing\n",
        "One dimensional array behaves like the list in Python:"
      ]
    },
    {
      "cell_type": "code",
      "metadata": {
        "id": "C9lXEZE-lCMx",
        "colab": {
          "base_uri": "https://localhost:8080/",
          "height": 54
        },
        "outputId": "edf82752-55f6-4466-b941-902651536a3d"
      },
      "source": [
        "a=np.array([1,4,2,7,9,5])\n",
        "print(a[1])\n",
        "print(a[-2])"
      ],
      "execution_count": null,
      "outputs": [
        {
          "output_type": "stream",
          "text": [
            "4\n",
            "9\n"
          ],
          "name": "stdout"
        }
      ]
    },
    {
      "cell_type": "markdown",
      "metadata": {
        "id": "JdF6lKiYlCM1"
      },
      "source": [
        "For multi-dimensional array the index is a comma separated tuple instead of a single integer:"
      ]
    },
    {
      "cell_type": "code",
      "metadata": {
        "id": "Uz5epHHHlCM2",
        "colab": {
          "base_uri": "https://localhost:8080/",
          "height": 90
        },
        "outputId": "6580ac91-5e7a-4153-dcbe-801fa6f9127d"
      },
      "source": [
        "b=np.array([[1,2,3], [4,5,6]])\n",
        "print(b)\n",
        "print(b[1,2])    # row index 1, column index 2\n",
        "print(b[0,-1])   # row index 0, column index -1"
      ],
      "execution_count": null,
      "outputs": [
        {
          "output_type": "stream",
          "text": [
            "[[1 2 3]\n",
            " [4 5 6]]\n",
            "6\n",
            "3\n"
          ],
          "name": "stdout"
        }
      ]
    },
    {
      "cell_type": "code",
      "metadata": {
        "id": "5qvEIM50lCM5",
        "colab": {
          "base_uri": "https://localhost:8080/",
          "height": 54
        },
        "outputId": "a1645268-0c8e-4642-b24f-82eaf3545b61"
      },
      "source": [
        "# As with lists, modification through indexing is possible\n",
        "b[0,0] = 10\n",
        "print(b)"
      ],
      "execution_count": null,
      "outputs": [
        {
          "output_type": "stream",
          "text": [
            "[[10  2  3]\n",
            " [ 4  5  6]]\n"
          ],
          "name": "stdout"
        }
      ]
    },
    {
      "cell_type": "markdown",
      "metadata": {
        "id": "rUNEi7BWlCM7"
      },
      "source": [
        "Note that if you give only a single index to a multi-dimensional array, it indexes the first dimension of the array, that is the rows. For example:"
      ]
    },
    {
      "cell_type": "code",
      "metadata": {
        "id": "1VR11EtZlCM8",
        "colab": {
          "base_uri": "https://localhost:8080/",
          "height": 54
        },
        "outputId": "17f98bbb-0bac-41df-b416-dfab6b8d1d28"
      },
      "source": [
        "print(b[0])    # First row\n",
        "print(b[1])    # Second row"
      ],
      "execution_count": null,
      "outputs": [
        {
          "output_type": "stream",
          "text": [
            "[10  2  3]\n",
            "[4 5 6]\n"
          ],
          "name": "stdout"
        }
      ]
    },
    {
      "cell_type": "markdown",
      "metadata": {
        "id": "kCj8sLoQlCNC"
      },
      "source": [
        "#### Slicing\n",
        "Slicing works similarly to lists, but now we can have slices in different dimensions:"
      ]
    },
    {
      "cell_type": "code",
      "metadata": {
        "id": "c8JRYy3DlCNE",
        "colab": {
          "base_uri": "https://localhost:8080/",
          "height": 72
        },
        "outputId": "d72c7e6a-6256-4468-b99b-16aa378a6061"
      },
      "source": [
        "print(a)\n",
        "#print(a[1:3])\n",
        "#print(a[::-1])    # Reverses the array"
      ],
      "execution_count": null,
      "outputs": [
        {
          "output_type": "stream",
          "text": [
            "[1 4 2 7 9 5]\n",
            "[4 2]\n",
            "[5 9 7 2 4 1]\n"
          ],
          "name": "stdout"
        }
      ]
    },
    {
      "cell_type": "code",
      "metadata": {
        "id": "khBxbls0lCNJ",
        "colab": {
          "base_uri": "https://localhost:8080/",
          "height": 54
        },
        "outputId": "0d94410f-9406-4321-8e94-01753c6fdc6d"
      },
      "source": [
        "print(b)\n",
        "#print(b[:,0])\n",
        "#print(b[0,:])\n",
        "#print(b[:,1:])"
      ],
      "execution_count": null,
      "outputs": [
        {
          "output_type": "stream",
          "text": [
            "[[1 2 3]\n",
            " [4 5 6]]\n"
          ],
          "name": "stdout"
        }
      ]
    },
    {
      "cell_type": "markdown",
      "metadata": {
        "id": "dgO2G7MBlCNL"
      },
      "source": [
        "We can even assign to a slice:"
      ]
    },
    {
      "cell_type": "code",
      "metadata": {
        "id": "XppTIXPYlCNM"
      },
      "source": [
        "b[:,1:] = 7\n",
        "print(b)"
      ],
      "execution_count": null,
      "outputs": []
    },
    {
      "cell_type": "markdown",
      "metadata": {
        "id": "B4c92pWzlCNP"
      },
      "source": [
        "A common idiom is to extract rows or columns from an array:"
      ]
    },
    {
      "cell_type": "code",
      "metadata": {
        "id": "8k9WL5iQlCNR"
      },
      "source": [
        "print(b[:,0])    # First column\n",
        "print(b[1,:])    # Second row"
      ],
      "execution_count": null,
      "outputs": []
    },
    {
      "cell_type": "markdown",
      "metadata": {
        "id": "mEuq6FuXlCNS"
      },
      "source": [
        "### Reshaping\n",
        "\n",
        "When an array is reshaped, its number of elements stays the same, but they are reinterpreted to have a different shape. An example of this is to interpret a one dimensional array as two dimension array:"
      ]
    },
    {
      "cell_type": "code",
      "metadata": {
        "id": "fkATEx-9lCNT",
        "colab": {
          "base_uri": "https://localhost:8080/",
          "height": 127
        },
        "outputId": "51235381-69ff-4908-a269-5923ec0e14c6"
      },
      "source": [
        "a=np.arange(9)\n",
        "anew=a.reshape(3,3)\n",
        "info(\"anew\", anew)\n",
        "info(\"a\", a)"
      ],
      "execution_count": null,
      "outputs": [
        {
          "output_type": "stream",
          "text": [
            "anew has dim 2, shape (3, 3), size 9, and dtype int64:\n",
            "[[0 1 2]\n",
            " [3 4 5]\n",
            " [6 7 8]]\n",
            "a has dim 1, shape (9,), size 9, and dtype int64:\n",
            "[0 1 2 3 4 5 6 7 8]\n"
          ],
          "name": "stdout"
        }
      ]
    },
    {
      "cell_type": "code",
      "metadata": {
        "id": "njDAgt9xlCNV",
        "colab": {
          "base_uri": "https://localhost:8080/",
          "height": 182
        },
        "outputId": "213cdaca-c268-46e3-f0c7-f4da9d18df30"
      },
      "source": [
        "d=np.arange(4)             # 1d array\n",
        "dr=d.reshape(1,4)          # row vector\n",
        "dc=d.reshape(4,1)          # column vector\n",
        "info(\"d\", d)\n",
        "info(\"dr\", dr)\n",
        "info(\"dc\", dc)"
      ],
      "execution_count": null,
      "outputs": [
        {
          "output_type": "stream",
          "text": [
            "d has dim 1, shape (4,), size 4, and dtype int64:\n",
            "[0 1 2 3]\n",
            "dr has dim 2, shape (1, 4), size 4, and dtype int64:\n",
            "[[0 1 2 3]]\n",
            "dc has dim 2, shape (4, 1), size 4, and dtype int64:\n",
            "[[0]\n",
            " [1]\n",
            " [2]\n",
            " [3]]\n"
          ],
          "name": "stdout"
        }
      ]
    },
    {
      "cell_type": "markdown",
      "metadata": {
        "id": "M00spXwKlCNX"
      },
      "source": [
        "<div class=\"alert alert-warning\">\n",
        "Note the 1d array and the row and column vectors, which are 2d arrays, are fundamentally different objects, even though they look similar. They behave differently when we combine or otherwise operate arrays of different shapes, as we shall see in the next section and later in this material.\n",
        "</div>"
      ]
    },
    {
      "cell_type": "markdown",
      "metadata": {
        "id": "iL_vR-6dlCNd"
      },
      "source": [
        "#### <div class=\"alert alert-info\">Exercise 1 (rows and columns)</div>\n",
        "\n",
        "Write two functions, `get_rows` and `get_columns`, that get a two dimensional array as parameter.\n",
        "They should return the list of rows and columns of the array, respectively. The rows and columns should be one dimensional arrays. You may use the *transpose* operation, which flips rows to columns, in your solution. The transpose is done by the `T` method:"
      ]
    },
    {
      "cell_type": "code",
      "metadata": {
        "id": "S7cbv2bolCNd",
        "colab": {
          "base_uri": "https://localhost:8080/",
          "height": 164
        },
        "outputId": "597e40bd-3245-4729-8a2e-b6350ad1346c"
      },
      "source": [
        ""
      ],
      "execution_count": null,
      "outputs": [
        {
          "output_type": "stream",
          "text": [
            "[[0 1 9 9]\n",
            " [0 4 7 3]\n",
            " [2 7 2 0]\n",
            " [0 4 5 5]]\n",
            "[[0 0 2 0]\n",
            " [1 4 7 4]\n",
            " [9 7 2 5]\n",
            " [9 3 0 5]]\n"
          ],
          "name": "stdout"
        }
      ]
    },
    {
      "cell_type": "markdown",
      "metadata": {
        "id": "J4juYrRnlCNl"
      },
      "source": [
        "## Array concatenation, splitting and stacking\n",
        "\n",
        "The are two ways of combining several arrays into one bigger array: `concatenate` and `stack`. `Concatenate` takes n-dimensional arrays and returns an n-dimensional array, whereas `stack` takes n-dimensional arrays and returns n+1-dimensional array. Few examples of these:"
      ]
    },
    {
      "cell_type": "code",
      "metadata": {
        "id": "yQnxfzHQlCNm",
        "colab": {
          "base_uri": "https://localhost:8080/",
          "height": 72
        },
        "outputId": "134c4cd0-548c-4786-e231-b21ba05a4852"
      },
      "source": [
        "a=np.arange(2)\n",
        "b=np.arange(2,5)\n",
        "print(f\"a has shape {a.shape}: {a}\")\n",
        "print(f\"b has shape {b.shape}: {b}\")\n",
        "np.concatenate((a,b))  # concatenating 1d arrays"
      ],
      "execution_count": null,
      "outputs": [
        {
          "output_type": "stream",
          "text": [
            "a has shape (2,): [0 1]\n",
            "b has shape (3,): [2 3 4]\n"
          ],
          "name": "stdout"
        },
        {
          "output_type": "execute_result",
          "data": {
            "text/plain": [
              "array([0, 1, 2, 3, 4])"
            ]
          },
          "metadata": {
            "tags": []
          },
          "execution_count": 100
        }
      ]
    },
    {
      "cell_type": "code",
      "metadata": {
        "id": "kOtHAwEglCNq",
        "colab": {
          "base_uri": "https://localhost:8080/",
          "height": 146
        },
        "outputId": "9f8dcae4-8544-4bc8-8df4-c95020b38b6b"
      },
      "source": [
        "c=np.arange(1,5).reshape(2,2)\n",
        "print(f\"c has shape {c.shape}:\", c, sep=\"\\n\")\n",
        "np.concatenate((c,c))   # concatenating 2d arrays"
      ],
      "execution_count": null,
      "outputs": [
        {
          "output_type": "stream",
          "text": [
            "c has shape (2, 2):\n",
            "[[1 2]\n",
            " [3 4]]\n"
          ],
          "name": "stdout"
        },
        {
          "output_type": "execute_result",
          "data": {
            "text/plain": [
              "array([[1, 2],\n",
              "       [3, 4],\n",
              "       [1, 2],\n",
              "       [3, 4]])"
            ]
          },
          "metadata": {
            "tags": []
          },
          "execution_count": 114
        }
      ]
    },
    {
      "cell_type": "markdown",
      "metadata": {
        "id": "pPjSgWvWlCNx"
      },
      "source": [
        "By default `concatenate` joins the arrays along axis 0. To join the arrays horizontally, add parameter `axis=1`:"
      ]
    },
    {
      "cell_type": "code",
      "metadata": {
        "id": "xaTeXkPYlCNy",
        "colab": {
          "base_uri": "https://localhost:8080/",
          "height": 54
        },
        "outputId": "e3725152-9ef7-4b69-c008-82a698ec5df7"
      },
      "source": [
        "np.concatenate((c,c), axis=1)"
      ],
      "execution_count": null,
      "outputs": [
        {
          "output_type": "execute_result",
          "data": {
            "text/plain": [
              "array([[1, 2, 1, 2],\n",
              "       [3, 4, 3, 4]])"
            ]
          },
          "metadata": {
            "tags": []
          },
          "execution_count": 102
        }
      ]
    },
    {
      "cell_type": "markdown",
      "metadata": {
        "id": "jF0CWTQclCN2"
      },
      "source": [
        "If you want to catenate arrays with different dimensions, for example to add a new column to a 2d array, you must first  reshape the arrays to have same number of dimensions:"
      ]
    },
    {
      "cell_type": "code",
      "metadata": {
        "id": "jRkIJDpelCN3",
        "colab": {
          "base_uri": "https://localhost:8080/",
          "height": 146
        },
        "outputId": "755d3065-6096-4663-ac58-7108e02acf3f"
      },
      "source": [
        "print(\"New row:\")\n",
        "print(np.concatenate((c,a.reshape(1,2))))\n",
        "print(\"New column:\")\n",
        "print(np.concatenate((c,a.reshape(2,1)), axis=1))"
      ],
      "execution_count": null,
      "outputs": [
        {
          "output_type": "stream",
          "text": [
            "New row:\n",
            "[[1 2]\n",
            " [3 4]\n",
            " [0 1]]\n",
            "New column:\n",
            "[[1 2 0]\n",
            " [3 4 1]]\n"
          ],
          "name": "stdout"
        }
      ]
    },
    {
      "cell_type": "markdown",
      "metadata": {
        "id": "VSlhrUESlCN6"
      },
      "source": [
        "Use `stack` to create higher dimensional arrays from lower dimensional arrays:"
      ]
    },
    {
      "cell_type": "code",
      "metadata": {
        "id": "dKmZfe2YlCN6",
        "colab": {
          "base_uri": "https://localhost:8080/",
          "height": 72
        },
        "outputId": "51d22f4b-2f0b-43e9-b5f1-35c10cd86787"
      },
      "source": [
        "print(b)\n",
        "np.stack((b,b))"
      ],
      "execution_count": null,
      "outputs": [
        {
          "output_type": "stream",
          "text": [
            "[2 3 4]\n"
          ],
          "name": "stdout"
        },
        {
          "output_type": "execute_result",
          "data": {
            "text/plain": [
              "array([[2, 3, 4],\n",
              "       [2, 3, 4]])"
            ]
          },
          "metadata": {
            "tags": []
          },
          "execution_count": 119
        }
      ]
    },
    {
      "cell_type": "code",
      "metadata": {
        "id": "ccejilI9lCOX",
        "colab": {
          "base_uri": "https://localhost:8080/",
          "height": 72
        },
        "outputId": "ef81d6ba-f472-4c7c-8cd7-512423975634"
      },
      "source": [
        "np.stack((b,b), axis=1)"
      ],
      "execution_count": null,
      "outputs": [
        {
          "output_type": "execute_result",
          "data": {
            "text/plain": [
              "array([[2, 2],\n",
              "       [3, 3],\n",
              "       [4, 4]])"
            ]
          },
          "metadata": {
            "tags": []
          },
          "execution_count": 116
        }
      ]
    },
    {
      "cell_type": "markdown",
      "metadata": {
        "id": "br8FD1_VlCOc"
      },
      "source": [
        "Inverse operation of `concatenate` is `split`. Its argument specifies either the number of equal parts the array is divided into, or it specifies explicitly the break points."
      ]
    },
    {
      "cell_type": "code",
      "metadata": {
        "id": "4fvkE4lUlCOe",
        "colab": {
          "base_uri": "https://localhost:8080/",
          "height": 293
        },
        "outputId": "44e67b03-e504-43d9-d06f-766a5cbbdf90"
      },
      "source": [
        "d=np.arange(12).reshape(6,2)\n",
        "print(\"d:\")\n",
        "print(d)\n",
        "d1,d2 = np.split(d, 2)\n",
        "print(\"d1:\")\n",
        "print(d1)\n",
        "print(\"d2:\")\n",
        "print(d2)"
      ],
      "execution_count": null,
      "outputs": [
        {
          "output_type": "stream",
          "text": [
            "d:\n",
            "[[ 0  1]\n",
            " [ 2  3]\n",
            " [ 4  5]\n",
            " [ 6  7]\n",
            " [ 8  9]\n",
            " [10 11]]\n",
            "d1:\n",
            "[[0 1]\n",
            " [2 3]\n",
            " [4 5]]\n",
            "d2:\n",
            "[[ 6  7]\n",
            " [ 8  9]\n",
            " [10 11]]\n"
          ],
          "name": "stdout"
        }
      ]
    },
    {
      "cell_type": "code",
      "metadata": {
        "id": "NtJnrn7qlCOj",
        "colab": {
          "base_uri": "https://localhost:8080/",
          "height": 293
        },
        "outputId": "9fbc991a-11cf-47b2-8ff2-3384d7e63d7e"
      },
      "source": [
        "d=np.arange(12).reshape(2,6)\n",
        "print(\"d:\")\n",
        "print(d)\n",
        "parts=np.split(d, (2,3,5), axis=1)\n",
        "for i, p in enumerate(parts):\n",
        "    print(\"part %i:\" % i)\n",
        "    print(p)"
      ],
      "execution_count": null,
      "outputs": [
        {
          "output_type": "stream",
          "text": [
            "d:\n",
            "[[ 0  1  2  3  4  5]\n",
            " [ 6  7  8  9 10 11]]\n",
            "part 0:\n",
            "[[0 1]\n",
            " [6 7]]\n",
            "part 1:\n",
            "[[2]\n",
            " [8]]\n",
            "part 2:\n",
            "[[ 3  4]\n",
            " [ 9 10]]\n",
            "part 3:\n",
            "[[ 5]\n",
            " [11]]\n"
          ],
          "name": "stdout"
        }
      ]
    },
    {
      "cell_type": "markdown",
      "metadata": {
        "id": "noQgCYnFlCOl"
      },
      "source": [
        "#### <div class=\"alert alert-info\">Exercise 2 (row and column vectors)</div>\n",
        "\n",
        "Create function `get_row_vectors` that returns a list of rows from the input array of shape `(n,m)`, but this time the rows must have shape `(1,m)`. Similarly, create function `get_columns_vectors` that returns a list of columns (each having shape `(n,1)`) of the input matrix .\n",
        "\n",
        "Example: for a 2x3 input matrix\n",
        "\n",
        "```\n",
        " [[5 0 3]\n",
        "  [3 7 9]]\n",
        "```\n",
        "\n",
        "the result should be\n",
        "\n",
        "```\n",
        "Row vectors: \n",
        "[array([[5, 0, 3]]), array([[3, 7, 9]])]\n",
        "Column vectors: \n",
        "[array([[5],\n",
        "        [3]]), \n",
        " array([[0],\n",
        "        [7]]), \n",
        " array([[3],\n",
        "        [9]])]\n",
        "```\n",
        "\n",
        "\n",
        "<hr/>"
      ]
    },
    {
      "cell_type": "code",
      "metadata": {
        "id": "DZ5wUlzgB3wn",
        "colab": {
          "base_uri": "https://localhost:8080/",
          "height": 146
        },
        "outputId": "ccbb3808-9de3-420a-d92a-c4109e0bfa19"
      },
      "source": [
        ""
      ],
      "execution_count": null,
      "outputs": [
        {
          "output_type": "stream",
          "text": [
            "[[5 0 3]\n",
            " [7 3 9]]\n",
            "Row vectors: [array([[5, 0, 3]]), array([[7, 3, 9]])]\n",
            "Column vectors: [array([[5],\n",
            "       [7]]), array([[0],\n",
            "       [3]]), array([[3],\n",
            "       [9]])]\n"
          ],
          "name": "stdout"
        }
      ]
    },
    {
      "cell_type": "markdown",
      "metadata": {
        "id": "nsJFgXz9lCOl"
      },
      "source": [
        "#### <div class=\"alert alert-info\">Exercise 3 (diamond)</div>\n",
        "Create a function `diamond` that returns a two dimensional integer array where the `1`s form a diamond shape. Rest of the numbers are `0`. The function should get a parameter that tells the length of a side of the diamond. Do this using the `eye` and `concatenate` functions of NumPy and array slicing.\n",
        "\n",
        "Example of usage:\n",
        "```\n",
        "print(diamond(3))\n",
        "[[0 0 1 0 0]\n",
        " [0 1 0 1 0]\n",
        " [1 0 0 0 1]\n",
        " [0 1 0 1 0]\n",
        " [0 0 1 0 0]]\n",
        "print(diamond(1))\n",
        "[[1]]\n",
        "```"
      ]
    },
    {
      "cell_type": "code",
      "metadata": {
        "id": "GrJWMj0_EZ_E",
        "colab": {
          "base_uri": "https://localhost:8080/",
          "height": 109
        },
        "outputId": "e9ab1f1b-f36a-44cc-c5ab-80330f097b5f"
      },
      "source": [
        ""
      ],
      "execution_count": null,
      "outputs": [
        {
          "output_type": "stream",
          "text": [
            "[[0 0 1 0 0]\n",
            " [0 1 0 1 0]\n",
            " [1 0 0 0 1]\n",
            " [0 1 0 1 0]\n",
            " [0 0 1 0 0]]\n"
          ],
          "name": "stdout"
        }
      ]
    },
    {
      "cell_type": "markdown",
      "metadata": {
        "id": "WWO-a1INlCOm"
      },
      "source": [
        "## Fast computation using universal functions\n",
        "\n",
        "In addition to providing a way to store and access multi-dimension arrays, NumPy also provides several routines to perform computations on them. One of the reasons for the popularity of NumPy is that these computations can be very efficient, much more efficient than what Python can normally do. The biggest bottle-necks in efficiency are the loops, which can be iterated millions, billions, or even more times. The loops should be as efficient as possible. What slows down loops in Python as the fact that Python is dynamically typed language. That means that at each expression Python has find out the types of the arguments of the operations. Let's consider the following loop:"
      ]
    },
    {
      "cell_type": "code",
      "metadata": {
        "id": "mWvffkIClCOn",
        "colab": {
          "base_uri": "https://localhost:8080/",
          "height": 35
        },
        "outputId": "41e77c62-1ff9-46f1-deac-cac191fe5745"
      },
      "source": [
        "L=[1, 5.2, \"ab\"]\n",
        "L2=[]\n",
        "for x in L:\n",
        "    L2.append(x*2)\n",
        "print(L2)"
      ],
      "execution_count": null,
      "outputs": [
        {
          "output_type": "stream",
          "text": [
            "[2, 10.4, 'abab']\n"
          ],
          "name": "stdout"
        }
      ]
    },
    {
      "cell_type": "markdown",
      "metadata": {
        "id": "OhjmgmLJlCOs"
      },
      "source": [
        "At each iteration of this loop Python has find out the type of the variable x, which can in this example be an int, a float or a string, and depending on this type call a different function to perform the \"multiplication\" by two. What makes NumPy efficient, is the requirement that each element in an array must be of the same type. This homogeneity of arrays makes it possible to create *vectorized* operation, which don't operate on single elements, but on arrays (or subarrays). The previous example using vectorized operations of NumPy is shown below."
      ]
    },
    {
      "cell_type": "code",
      "metadata": {
        "id": "qYXV2D9ylCOt",
        "colab": {
          "base_uri": "https://localhost:8080/",
          "height": 35
        },
        "outputId": "ebcd5735-52c0-433c-b1ca-97281100c6dd"
      },
      "source": [
        "a=np.array([2.1, 5.0, 17.2])\n",
        "a2=a*2\n",
        "print(a2)"
      ],
      "execution_count": null,
      "outputs": [
        {
          "output_type": "stream",
          "text": [
            "[ 4.2 10.  34.4]\n"
          ],
          "name": "stdout"
        }
      ]
    },
    {
      "cell_type": "markdown",
      "metadata": {
        "id": "K2HZ3iD0lCOx"
      },
      "source": [
        "Because each iteration is using identical operations only the data differs, this can compiled into machine language, and then performed in one go, hence avoiding Python's dynamic typing. \n",
        "\n",
        "In addition to addition there are several mathematical functions defined in the vector form. The basic arithmetic operations are: addition `+`, subtraction `-`, negation `-`, multiplication `*`, division `/`, floor division `//`, exponentation `**`, and remainder `%`. \n",
        "\n",
        "The can be combined into more complicated expressions. An example:"
      ]
    },
    {
      "cell_type": "code",
      "metadata": {
        "id": "Ago-uvk9lCO4",
        "colab": {
          "base_uri": "https://localhost:8080/",
          "height": 35
        },
        "outputId": "47d9d68f-d47f-4533-80e8-10d9aaf08f8e"
      },
      "source": [
        "b=np.array([-1, 3.2, 2.4])\n",
        "print(-a**2 * b)"
      ],
      "execution_count": null,
      "outputs": [
        {
          "output_type": "stream",
          "text": [
            "[   4.41   -80.    -710.016]\n"
          ],
          "name": "stdout"
        }
      ]
    },
    {
      "cell_type": "markdown",
      "metadata": {
        "id": "6po_f0FDlCO8"
      },
      "source": [
        "Several other mathematical functions are defined as well. A few examples of these can be found below."
      ]
    },
    {
      "cell_type": "code",
      "metadata": {
        "id": "0dmVc4ITlCO-"
      },
      "source": [
        "print(np.abs(b))\n",
        "print(np.cos(b))\n",
        "print(np.exp(b))\n",
        "print(np.log2(np.abs(b)))"
      ],
      "execution_count": null,
      "outputs": []
    },
    {
      "cell_type": "markdown",
      "metadata": {
        "id": "9O0ffqPllCPC"
      },
      "source": [
        "In NumPy nomenclature these vector operations are called *ufuncs* (universal functions)."
      ]
    },
    {
      "cell_type": "markdown",
      "metadata": {
        "id": "05hJyifdlCPD"
      },
      "source": [
        "## Aggregations: max, min, sum, mean, standard deviation...\n",
        "\n",
        "Aggregations allow us to condense the information in an array into just few numbers."
      ]
    },
    {
      "cell_type": "code",
      "metadata": {
        "id": "VL7KNVSRlCPF",
        "colab": {
          "base_uri": "https://localhost:8080/",
          "height": 146
        },
        "outputId": "5e597e78-b012-44ac-fe79-69a3bd69916f"
      },
      "source": [
        "np.random.seed(0)\n",
        "a=np.random.randint(-100, 100, (4,5))\n",
        "print(a)\n",
        "print(f\"Minimum: {a.min()}, maximum: {a.max()}\")\n",
        "print(f\"Sum: {a.sum()}\")\n",
        "print(f\"Mean: {a.mean()}, standard deviation: {a.std()}\")"
      ],
      "execution_count": null,
      "outputs": [
        {
          "output_type": "stream",
          "text": [
            "[[ 72 -53  17  92 -33]\n",
            " [ 95   3 -91 -79 -64]\n",
            " [-13 -30 -12  40 -42]\n",
            " [ 93 -61 -13  74 -12]]\n",
            "Minimum: -91, maximum: 95\n",
            "Sum: -17\n",
            "Mean: -0.85, standard deviation: 58.39886557117355\n"
          ],
          "name": "stdout"
        }
      ]
    },
    {
      "cell_type": "markdown",
      "metadata": {
        "id": "iDtEZDOvlCPG"
      },
      "source": [
        "Instead of aggregating over the whole array, we can aggregate over certain axes only as well:"
      ]
    },
    {
      "cell_type": "code",
      "metadata": {
        "id": "2kAoUInFlCPH",
        "colab": {
          "base_uri": "https://localhost:8080/",
          "height": 109
        },
        "outputId": "6c9a11a4-5370-4f1c-bba0-91fb5c41988b"
      },
      "source": [
        "np.random.seed(9)\n",
        "b=np.random.randint(0, 10, (3,4))\n",
        "print(b)\n",
        "print(\"Column sums:\", b.sum(axis=0))\n",
        "print(\"Row sums:\", b.sum(axis=1))"
      ],
      "execution_count": null,
      "outputs": [
        {
          "output_type": "stream",
          "text": [
            "[[5 6 8 6]\n",
            " [1 6 4 8]\n",
            " [1 8 5 1]]\n",
            "Column sums: [ 7 20 17 15]\n",
            "Row sums: [25 19 15]\n"
          ],
          "name": "stdout"
        }
      ]
    },
    {
      "cell_type": "markdown",
      "metadata": {
        "id": "sbWm6xgB3zmA"
      },
      "source": [
        "![aggregation](https://github.com/smabb/p/blob/master/aggregation.svg?raw=1)"
      ]
    },
    {
      "cell_type": "markdown",
      "metadata": {
        "id": "g8KWyaOw3zUB"
      },
      "source": [
        "<div class=\"alert alert-warning\">\n",
        "Note that most of the aggregation functions in NumPy have corresponding methods. In addition, Python language has builtin functions `sum`, `min`, `max`, `any`, and `all` for sequences. Make sure you don't accidentally use these for arrays, since they may have slightly different semantics, and they will be significantly slower than NumPy's functions and methods.\n",
        "</div>\n",
        "\n",
        "| Python function | NumPy function | NumPy method |\n",
        "| ----- | -------------- | ------------ |\n",
        "| sum   | np.sum         | a.sum |\n",
        "| -     | np.prod        | a.prod |\n",
        "| -     | np.mean        | a.mean |\n",
        "| -     | np.std         | a.std |\n",
        "| -     | np.var         | a.var |\n",
        "| min   | np.min         | a.min |\n",
        "| max   | np.max         | a.max |\n",
        "| -     | np.argmin      | a.argmin |\n",
        "| -     | np.argmax      | a.argmax |\n",
        "| -     | np.median      | - |\n",
        "| -     | np.percentile  | - |\n",
        "| any   | np.any         | a.any |\n",
        "| all   | np.all         | a.all |\n",
        "\n",
        " "
      ]
    },
    {
      "cell_type": "markdown",
      "metadata": {
        "id": "J5DABXrJlCPL"
      },
      "source": [
        "Let's measure how much slower Python's `sum` function is compared to NumPy's equivalent when aggregating over an array:"
      ]
    },
    {
      "cell_type": "code",
      "metadata": {
        "id": "ud2vXeynlCPL",
        "colab": {
          "base_uri": "https://localhost:8080/",
          "height": 54
        },
        "outputId": "d40a037e-c412-4d00-91d9-f9506c723e83"
      },
      "source": [
        "a=np.arange(1000)\n",
        "%timeit np.sum(a)"
      ],
      "execution_count": null,
      "outputs": [
        {
          "output_type": "stream",
          "text": [
            "The slowest run took 64.62 times longer than the fastest. This could mean that an intermediate result is being cached.\n",
            "100000 loops, best of 3: 5.12 µs per loop\n"
          ],
          "name": "stdout"
        }
      ]
    },
    {
      "cell_type": "code",
      "metadata": {
        "id": "x1C8RlGylCPN",
        "colab": {
          "base_uri": "https://localhost:8080/",
          "height": 54
        },
        "outputId": "b9680b2d-bbd5-4683-e1bc-b9f0477a2462"
      },
      "source": [
        "%timeit sum(a)"
      ],
      "execution_count": null,
      "outputs": [
        {
          "output_type": "stream",
          "text": [
            "The slowest run took 4.92 times longer than the fastest. This could mean that an intermediate result is being cached.\n",
            "10000 loops, best of 3: 170 µs per loop\n"
          ],
          "name": "stdout"
        }
      ]
    },
    {
      "cell_type": "markdown",
      "metadata": {
        "id": "zF577oJolCPQ"
      },
      "source": [
        "The speed of NumPy is partly due to the fact that its arrays must have same type for all the elements. This requirement allows some efficient optimizations."
      ]
    },
    {
      "cell_type": "markdown",
      "metadata": {
        "id": "B4sd7vkVlCPX"
      },
      "source": [
        "## Broadcasting\n",
        "\n",
        "We have seen that NumPy allows array operations that are performed element-wise. But NumPy also allows binary operations that don't require the two arrays to have the same shape. For example, we can add 4 to all elements of an array with the following expression:"
      ]
    },
    {
      "cell_type": "code",
      "metadata": {
        "id": "D4CiAp0tlCPY",
        "colab": {
          "base_uri": "https://localhost:8080/",
          "height": 35
        },
        "outputId": "708414f9-cf90-4e84-e240-188a33a8aeaf"
      },
      "source": [
        "np.arange(3) + np.array([4])"
      ],
      "execution_count": null,
      "outputs": [
        {
          "output_type": "execute_result",
          "data": {
            "text/plain": [
              "array([4, 5, 6])"
            ]
          },
          "metadata": {
            "tags": []
          },
          "execution_count": 14
        }
      ]
    },
    {
      "cell_type": "markdown",
      "metadata": {
        "id": "hg7VK0AklCPa"
      },
      "source": [
        "In fact, because an array with only one element, say 4, can be thought of as a scalar 4, NumPy allows the following expression, which is equivalent to the above:"
      ]
    },
    {
      "cell_type": "code",
      "metadata": {
        "id": "m8m3dBWPlCPa",
        "colab": {
          "base_uri": "https://localhost:8080/",
          "height": 35
        },
        "outputId": "8fc9686d-24b9-4489-d265-b023b63c5c5e"
      },
      "source": [
        "np.arange(3) + 4"
      ],
      "execution_count": null,
      "outputs": [
        {
          "output_type": "execute_result",
          "data": {
            "text/plain": [
              "array([4, 5, 6])"
            ]
          },
          "metadata": {
            "tags": []
          },
          "execution_count": 15
        }
      ]
    },
    {
      "cell_type": "markdown",
      "metadata": {
        "id": "16TtzF9JlCPd"
      },
      "source": [
        "To get can idea of what operations are allowed, i.e. what shapes of the two arrays are *compatible*, it can be useful to think that before the binary operation is performed, NumPy tries to stretch the arrays to have the same shape. For example in above NumPy first stretched the array `np.array([4])` (or the scalar 4), to the array `np.array([4,4,4])` and then performed the element-wise addition. In NumPy this stretching is called *broadcasting*.\n",
        "\n",
        "![broadcast](https://github.com/smabb/p/blob/master/broadcast.svg?raw=1)"
      ]
    },
    {
      "cell_type": "markdown",
      "metadata": {
        "id": "JJOpVO4TlCPd"
      },
      "source": [
        "The argument arrays can of course have higher dimensions, as the next example shows:"
      ]
    },
    {
      "cell_type": "code",
      "metadata": {
        "id": "GRl47SoIlCPe",
        "colab": {
          "base_uri": "https://localhost:8080/",
          "height": 182
        },
        "outputId": "b24e6ae7-fb1c-4627-eb1a-9f50d9fc9ab5"
      },
      "source": [
        "a=np.full((3,3), 5)\n",
        "b=np.arange(3)\n",
        "print(\"a:\", a, sep=\"\\n\")\n",
        "print(\"b:\", b)\n",
        "print(\"a+b:\", a+b, sep=\"\\n\")"
      ],
      "execution_count": null,
      "outputs": [
        {
          "output_type": "stream",
          "text": [
            "a:\n",
            "[[5 5 5]\n",
            " [5 5 5]\n",
            " [5 5 5]]\n",
            "b: [0 1 2]\n",
            "a+b:\n",
            "[[5 6 7]\n",
            " [5 6 7]\n",
            " [5 6 7]]\n"
          ],
          "name": "stdout"
        }
      ]
    },
    {
      "cell_type": "markdown",
      "metadata": {
        "id": "9qYQdqQllCPg"
      },
      "source": [
        "In this example the second argument was first broadcasted to the array"
      ]
    },
    {
      "cell_type": "code",
      "metadata": {
        "id": "TtoJORUXlCPg",
        "colab": {
          "base_uri": "https://localhost:8080/",
          "height": 72
        },
        "outputId": "ed82cc53-7c42-40c3-e7fa-ea47c61f794f"
      },
      "source": [
        "np.array([[0, 1, 2],\n",
        "       [0, 1, 2],\n",
        "       [0, 1, 2]])"
      ],
      "execution_count": null,
      "outputs": [
        {
          "output_type": "execute_result",
          "data": {
            "text/plain": [
              "array([[0, 1, 2],\n",
              "       [0, 1, 2],\n",
              "       [0, 1, 2]])"
            ]
          },
          "metadata": {
            "tags": []
          },
          "execution_count": 135
        }
      ]
    },
    {
      "cell_type": "markdown",
      "metadata": {
        "id": "sPOpC2aclCPi"
      },
      "source": [
        "and then the addition was performed. And it may be that both of the argument arrays need to be broadcasted as in the next example:"
      ]
    },
    {
      "cell_type": "code",
      "metadata": {
        "id": "7foN3s1SlCPj"
      },
      "source": [
        "a=np.arange(3)\n",
        "b=np.arange(3).reshape((3,1))\n",
        "info(\"a\", a)\n",
        "info(\"b\", b)\n",
        "info(\"a+b\", a+b)"
      ],
      "execution_count": null,
      "outputs": []
    },
    {
      "cell_type": "markdown",
      "metadata": {
        "id": "AImt5Z6UlCPn"
      },
      "source": [
        "To see what the arguments were broadcasted to before the binary operation, the function `np.broadcast_arrays` can be used:"
      ]
    },
    {
      "cell_type": "code",
      "metadata": {
        "id": "4hgHj08KlCPn"
      },
      "source": [
        "broadcasted_a, broadcasted_b = np.broadcast_arrays(a,b)\n",
        "info(\"broadcasted_a\", broadcasted_a)\n",
        "info(\"broadcasted_b\", broadcasted_b)"
      ],
      "execution_count": null,
      "outputs": []
    },
    {
      "cell_type": "markdown",
      "metadata": {
        "id": "CVgFyoLYlCPq"
      },
      "source": [
        "To determine if two arrays are broadcast-compatible, align the entries of their shapes such that their trailing dimensions are aligned, and then check that each pair of aligned dimensions satisfy either of the following conditions:\n",
        "\n",
        "    the aligned dimensions have the same size\n",
        "    one of the dimensions has a size of 1\n",
        "\n",
        "The two arrays are broadcast-compatible if either of these conditions are satisfied for each pair of aligned dimensions.\n",
        "\n",
        "\n",
        "     array-1:         8\n",
        "     array-2: 5 x 2 x 8\n",
        "result-shape: 5 x 2 x 8\n",
        "\n",
        "     array-1:     5 x 2\n",
        "     array-2: 5 x 4 x 2\n",
        "result-shape: INCOMPATIBLE\n",
        "\n",
        "     array-1:     4 x 2\n",
        "     array-2: 5 x 4 x 2\n",
        "result-shape: 5 x 4 x 2\n",
        "\n",
        "     array-1: 8 x 1 x 3\n",
        "     array-2: 8 x 5 x 3\n",
        "result-shape: 8 x 5 x 3\n",
        "\n",
        "     array-1: 5 x 1 x 3 x 2\n",
        "     array-2:     9 x 1 x 2\n",
        "result-shape: 5 x 9 x 3 x 2\n",
        "\n",
        "     array-1: 1 x 3 x 2\n",
        "     array-2:     8 x 2\n",
        "result-shape: INCOMPATIBLE\n",
        "\n",
        "     array-1: 2 x 1\n",
        "     array-2:     1\n",
        "result-shape: 2 x 1\n"
      ]
    },
    {
      "cell_type": "markdown",
      "metadata": {
        "id": "8-oTbSK1lCPr"
      },
      "source": [
        "Finally an example of a situation where the two array are not compatible:"
      ]
    },
    {
      "cell_type": "code",
      "metadata": {
        "id": "K9HwYB_nlCPr",
        "colab": {
          "base_uri": "https://localhost:8080/",
          "height": 209
        },
        "outputId": "db6293d4-00a1-4755-8873-c36e5c3ec8e8"
      },
      "source": [
        "a=np.array([1,2,3])\n",
        "b=np.array([4,5])\n",
        "a+b                 # This does not work since it violates the rule 3 above.\n"
      ],
      "execution_count": null,
      "outputs": [
        {
          "output_type": "error",
          "ename": "ValueError",
          "evalue": "ignored",
          "traceback": [
            "\u001b[0;31m---------------------------------------------------------------------------\u001b[0m",
            "\u001b[0;31mValueError\u001b[0m                                Traceback (most recent call last)",
            "\u001b[0;32m<ipython-input-133-5220f66b06a7>\u001b[0m in \u001b[0;36m<module>\u001b[0;34m()\u001b[0m\n\u001b[1;32m      1\u001b[0m \u001b[0ma\u001b[0m\u001b[0;34m=\u001b[0m\u001b[0mnp\u001b[0m\u001b[0;34m.\u001b[0m\u001b[0marray\u001b[0m\u001b[0;34m(\u001b[0m\u001b[0;34m[\u001b[0m\u001b[0;36m1\u001b[0m\u001b[0;34m,\u001b[0m\u001b[0;36m2\u001b[0m\u001b[0;34m,\u001b[0m\u001b[0;36m3\u001b[0m\u001b[0;34m]\u001b[0m\u001b[0;34m)\u001b[0m\u001b[0;34m\u001b[0m\u001b[0;34m\u001b[0m\u001b[0m\n\u001b[1;32m      2\u001b[0m \u001b[0mb\u001b[0m\u001b[0;34m=\u001b[0m\u001b[0mnp\u001b[0m\u001b[0;34m.\u001b[0m\u001b[0marray\u001b[0m\u001b[0;34m(\u001b[0m\u001b[0;34m[\u001b[0m\u001b[0;36m4\u001b[0m\u001b[0;34m,\u001b[0m\u001b[0;36m5\u001b[0m\u001b[0;34m]\u001b[0m\u001b[0;34m)\u001b[0m\u001b[0;34m\u001b[0m\u001b[0;34m\u001b[0m\u001b[0m\n\u001b[0;32m----> 3\u001b[0;31m \u001b[0ma\u001b[0m\u001b[0;34m+\u001b[0m\u001b[0mb\u001b[0m                 \u001b[0;31m# This does not work since it violates the rule 3 above.\u001b[0m\u001b[0;34m\u001b[0m\u001b[0;34m\u001b[0m\u001b[0m\n\u001b[0m",
            "\u001b[0;31mValueError\u001b[0m: operands could not be broadcast together with shapes (3,) (2,) "
          ]
        }
      ]
    },
    {
      "cell_type": "markdown",
      "metadata": {
        "id": "pkcL6cPplCPt"
      },
      "source": [
        "#### <div class=\"alert alert-info\">Exercise 4 (multiplication table revisited)</div>\n",
        "Write function `multiplication_table` that gets a positive integer `n` as parameter. The function should return an array with shape (n,n). The element at index `(i,j)` should be `i*j`. Don't use `for` loops! In your solution, rely on broadcasting, the `np.arange` function, reshaping and vectorized operators. Example of usage:\n",
        "```\n",
        "print(multiplication_table(4))\n",
        "[[0 0 0 0]\n",
        " [0 1 2 3]\n",
        " [0 2 4 6]\n",
        " [0 3 6 9]]\n",
        "```\n",
        "<hr/>"
      ]
    },
    {
      "cell_type": "code",
      "metadata": {
        "id": "Y4y6gdEfElku",
        "colab": {
          "base_uri": "https://localhost:8080/",
          "height": 90
        },
        "outputId": "5d967baf-157a-42d3-dd24-6df84846326a"
      },
      "source": [
        ""
      ],
      "execution_count": null,
      "outputs": [
        {
          "output_type": "stream",
          "text": [
            "[[0 0 0 0]\n",
            " [0 1 2 3]\n",
            " [0 2 4 6]\n",
            " [0 3 6 9]]\n"
          ],
          "name": "stdout"
        }
      ]
    },
    {
      "cell_type": "markdown",
      "metadata": {
        "id": "0NzPOMLylq7i"
      },
      "source": [
        "## Comparisons and masking\n",
        "\n",
        "Just like NumPy allows element-wise arithmetic operations between arrays, for example addition of two arrays, it is also possible to compare two arrays element-wise. For example"
      ]
    },
    {
      "cell_type": "code",
      "metadata": {
        "id": "BBdf_IwXlq7k",
        "colab": {
          "base_uri": "https://localhost:8080/",
          "height": 35
        },
        "outputId": "f4056075-6868-457b-a429-950b4ea3de32"
      },
      "source": [
        "a=np.array([1,3,4])\n",
        "b=np.array([2,2,7])\n",
        "c = a < b\n",
        "print(c)"
      ],
      "execution_count": null,
      "outputs": [
        {
          "output_type": "stream",
          "text": [
            "[ True False  True]\n"
          ],
          "name": "stdout"
        }
      ]
    },
    {
      "cell_type": "markdown",
      "metadata": {
        "id": "L9ilhISQlq7t"
      },
      "source": [
        "Now we can query whether all comparisons resulted `True`, or whether some comparison resulted `True`:"
      ]
    },
    {
      "cell_type": "code",
      "metadata": {
        "id": "P4FRwCCHlq7v",
        "colab": {
          "base_uri": "https://localhost:8080/",
          "height": 54
        },
        "outputId": "f2766a26-f35f-4f73-e933-057819d13398"
      },
      "source": [
        "print(c.all())   # were all True\n",
        "print(c.any())   # was some comparison True"
      ],
      "execution_count": null,
      "outputs": [
        {
          "output_type": "stream",
          "text": [
            "False\n",
            "True\n"
          ],
          "name": "stdout"
        }
      ]
    },
    {
      "cell_type": "markdown",
      "metadata": {
        "id": "lIO9dgA-lq72"
      },
      "source": [
        "We can also count the number of comparisons that were `True`. This solution relies on the interpretation that `True` corresponds to 1 and `False` corresponds to 0:"
      ]
    },
    {
      "cell_type": "code",
      "metadata": {
        "id": "CYZoOBYllq74",
        "colab": {
          "base_uri": "https://localhost:8080/",
          "height": 35
        },
        "outputId": "281ff4a3-833d-42c1-fc78-8105be16dbde"
      },
      "source": [
        "print(np.sum(c))"
      ],
      "execution_count": null,
      "outputs": [
        {
          "output_type": "stream",
          "text": [
            "2\n"
          ],
          "name": "stdout"
        }
      ]
    },
    {
      "cell_type": "markdown",
      "metadata": {
        "id": "QJqXqcYalq7-"
      },
      "source": [
        "Because the broadcasting rules apply also to comparison, we can write"
      ]
    },
    {
      "cell_type": "code",
      "metadata": {
        "id": "LF-ZLpj_lq7_",
        "colab": {
          "base_uri": "https://localhost:8080/",
          "height": 35
        },
        "outputId": "a7cf8aa7-3b29-4dde-c444-34beec472036"
      },
      "source": [
        "print(a > 0)"
      ],
      "execution_count": null,
      "outputs": [
        {
          "output_type": "stream",
          "text": [
            "[ True  True  True]\n"
          ],
          "name": "stdout"
        }
      ]
    },
    {
      "cell_type": "markdown",
      "metadata": {
        "id": "8aWeQl82lq8F"
      },
      "source": [
        "To try these operations on real data, we download  Food Prices data for State of Palestine. We will get the monthly price from year 2007 to 2019. We use the Pandas library, which we will cover later during this course, to load the data."
      ]
    },
    {
      "cell_type": "code",
      "metadata": {
        "id": "QcWm-1AWlq8I"
      },
      "source": [
        "import pandas as pd\n",
        "a1=pd.read_csv(\"http://data.humdata.org/dataset/80999ea7-6b3d-43eb-ac9b-343579548504/resource/7c3802bc-c2a5-4c24-aa9f-299661706293/download/wfp_food_prices_state-of-palestine.csv\")['price'].values"
      ],
      "execution_count": null,
      "outputs": []
    },
    {
      "cell_type": "code",
      "metadata": {
        "id": "lqopbC_Rlq8T",
        "colab": {
          "base_uri": "https://localhost:8080/",
          "height": 35
        },
        "outputId": "c3a6fa7b-bc5a-4ee7-bd62-2b44b9870a18"
      },
      "source": [
        "a=a1[1:].astype(float)\n",
        "a1[2:]"
      ],
      "execution_count": null,
      "outputs": [
        {
          "output_type": "execute_result",
          "data": {
            "text/plain": [
              "array(['2.0', '2.0', '2.0', ..., '2.5', '2.5', '2.5'], dtype=object)"
            ]
          },
          "metadata": {
            "tags": []
          },
          "execution_count": 162
        }
      ]
    },
    {
      "cell_type": "code",
      "metadata": {
        "id": "_VjnZ86xlq8X",
        "colab": {
          "base_uri": "https://localhost:8080/",
          "height": 35
        },
        "outputId": "ee55ada2-64aa-4611-f413-778cae117312"
      },
      "source": [
        "\n",
        "print(\"Number of items with price below 5\", np.sum(a < 5))"
      ],
      "execution_count": null,
      "outputs": [
        {
          "output_type": "stream",
          "text": [
            "Number of items with price below 5 5865\n"
          ],
          "name": "stdout"
        }
      ]
    },
    {
      "cell_type": "markdown",
      "metadata": {
        "id": "fE0Tb-Fylq8d"
      },
      "source": [
        "In core Python we can combine truth values using the `and`, `or`, and `not` keywords. For boolean array however we have to use the elementwise operators `&`, `|`, and `~`, respectively. An example of these:"
      ]
    },
    {
      "cell_type": "code",
      "metadata": {
        "id": "eCVsfmpAlq8g",
        "colab": {
          "base_uri": "https://localhost:8080/",
          "height": 35
        },
        "outputId": "734df426-f7b3-49d3-cf92-c62feddf20c0"
      },
      "source": [
        "np.sum((0 < a) | (a < 10))     "
      ],
      "execution_count": null,
      "outputs": [
        {
          "output_type": "execute_result",
          "data": {
            "text/plain": [
              "16891"
            ]
          },
          "metadata": {
            "tags": []
          },
          "execution_count": 153
        }
      ]
    },
    {
      "cell_type": "markdown",
      "metadata": {
        "id": "8WXMfzUjlq8m"
      },
      "source": [
        "Another use of boolean arrays is that they can be used to select a subset of elements. For example"
      ]
    },
    {
      "cell_type": "code",
      "metadata": {
        "id": "CZn3whA0lq8n",
        "colab": {
          "base_uri": "https://localhost:8080/",
          "height": 72
        },
        "outputId": "d3eb264a-380e-4a56-a1c2-02f43a484f52"
      },
      "source": [
        "c = a > 2\n",
        "print(a[:10])\n",
        "print(c[:10])         # print only the first ten elements\n",
        "print(a[c][:10])      # Select only the first ten > 2 elements "
      ],
      "execution_count": null,
      "outputs": [
        {
          "output_type": "stream",
          "text": [
            "[2.   2.   2.   2.   2.   2.   2.   2.5  2.5  2.53]\n",
            "[False False False False False False False  True  True  True]\n",
            "[2.5  2.5  2.53 2.58 2.6  2.56 2.56 2.61 2.67 2.78]\n"
          ],
          "name": "stdout"
        }
      ]
    },
    {
      "cell_type": "markdown",
      "metadata": {
        "id": "RB8t39Czlq8s"
      },
      "source": [
        "This operation is called *masking*. It can also be used to assign a new value. For example the following zeroes out the  not matching elements:"
      ]
    },
    {
      "cell_type": "code",
      "metadata": {
        "id": "NKhA1y37lq8u",
        "colab": {
          "base_uri": "https://localhost:8080/",
          "height": 54
        },
        "outputId": "d59ee98d-cda7-4124-e4ff-afeaca46015b"
      },
      "source": [
        "print(a[:10])\n",
        "a[~c] = 0\n",
        "print(a[:10])"
      ],
      "execution_count": null,
      "outputs": [
        {
          "output_type": "stream",
          "text": [
            "[2.   2.   2.   2.   2.   2.   2.   2.5  2.5  2.53]\n",
            "[0.   0.   0.   0.   0.   0.   0.   2.5  2.5  2.53]\n"
          ],
          "name": "stdout"
        }
      ]
    },
    {
      "cell_type": "markdown",
      "metadata": {
        "id": "JleISl55lq80"
      },
      "source": [
        "#### <div class=\"alert alert-info\">Exercise 5 (column comparison)</div>\n",
        "\n",
        "Write function `column_comparison` that gets a two dimensional array as parameter. The function should return a new array containing those rows from the input that have the value in the second column larger than in the second last column. You may assume that the input contains at least two columns. Don't use loops, but instead vectorized operations. \n",
        "\n",
        "For array\n",
        "\n",
        "```\n",
        " [[8 9 3 8 8]\n",
        " [0 5 3 9 9]\n",
        " [5 7 6 0 4]\n",
        " [7 8 1 6 2]\n",
        " [2 1 3 5 8]]\n",
        "```\n",
        "the result would be\n",
        "```\n",
        " [[8 9 3 8 8]\n",
        " [5 7 6 0 4]\n",
        " [7 8 1 6 2]]\n",
        "```\n",
        "<hr/>"
      ]
    },
    {
      "cell_type": "code",
      "metadata": {
        "id": "V5ryzuRlE0Jq",
        "colab": {
          "base_uri": "https://localhost:8080/",
          "height": 72
        },
        "outputId": "fe6a304b-d3c1-44f0-ddca-8437ab9daa94"
      },
      "source": [
        ""
      ],
      "execution_count": null,
      "outputs": [
        {
          "output_type": "stream",
          "text": [
            "[[8 9 3 8 8]\n",
            " [5 7 6 0 4]\n",
            " [7 8 1 6 2]]\n"
          ],
          "name": "stdout"
        }
      ]
    },
    {
      "cell_type": "markdown",
      "metadata": {
        "id": "GPjre4JGlq81"
      },
      "source": [
        "#### <div class=\"alert alert-info\">Exercise 6 (first half second half)</div>\n",
        "\n",
        "Write function `first_half_second_half` that gets a two dimensional array of shape `(n,2*m)` as a parameter. The input array has `2*m` columns. The output from the function should be a matrix with those rows from the input that have the sum of the first `m` elements larger than the sum of the last `m` elements on the row. Your solution should call the `np.sum` function  exactly twice.\n",
        "\n",
        "Example of usage:\n",
        "```python\n",
        "a = np.array([[1, 3, 4, 2],\n",
        "              [2, 2, 1, 2]])\n",
        "first_half_second_half(a)\n",
        "array([[2, 2, 1, 2]])\n",
        "```\n",
        "<hr/>"
      ]
    },
    {
      "cell_type": "code",
      "metadata": {
        "id": "We8cbkmOE5UB",
        "colab": {
          "base_uri": "https://localhost:8080/",
          "height": 35
        },
        "outputId": "78d32771-c969-4dfe-d2b4-45e9419eb08c"
      },
      "source": [
        ""
      ],
      "execution_count": null,
      "outputs": [
        {
          "output_type": "execute_result",
          "data": {
            "text/plain": [
              "array([[2, 2, 1, 2]])"
            ]
          },
          "metadata": {
            "tags": []
          },
          "execution_count": 23
        }
      ]
    },
    {
      "cell_type": "markdown",
      "metadata": {
        "id": "Cru-KHxklq83"
      },
      "source": [
        "## Fancy indexing\n",
        "\n",
        "Using indexing we can get a single elements from an array. If we wanted multiple (not necessarily contiguous) elements, we would have to index several times:"
      ]
    },
    {
      "cell_type": "code",
      "metadata": {
        "id": "vcURXGZllq84",
        "colab": {
          "base_uri": "https://localhost:8080/",
          "height": 54
        },
        "outputId": "32e60a65-1263-4d03-fd97-2863634dfe5d"
      },
      "source": [
        "np.random.seed(0)\n",
        "a=np.random.randint(0, 20,20)\n",
        "a2=np.array([a[2], a[5], a[7]])\n",
        "print(a)\n",
        "print(a2)"
      ],
      "execution_count": null,
      "outputs": [
        {
          "output_type": "stream",
          "text": [
            "[12 15  0  3  3  7  9 19 18  4  6 12  1  6  7 14 17  5 13  8]\n",
            "[ 0  7 19]\n"
          ],
          "name": "stdout"
        }
      ]
    },
    {
      "cell_type": "markdown",
      "metadata": {
        "id": "Co8QKWqjlq9A"
      },
      "source": [
        "That's quite verbose. *Fancy indexing* provides a concise syntax for accessing multiple elements:"
      ]
    },
    {
      "cell_type": "code",
      "metadata": {
        "id": "XNgmKe96lq9B",
        "colab": {
          "base_uri": "https://localhost:8080/",
          "height": 54
        },
        "outputId": "e2a07bc6-d306-4f8b-cc38-d8e0e33609f5"
      },
      "source": [
        "idx=[2,5,7]           # List of indices\n",
        "print(a[idx])         # In fancy indexing in place of a single index, we can provide a list of indices\n",
        "print(a[[2,5,7]])     # Or directly"
      ],
      "execution_count": null,
      "outputs": [
        {
          "output_type": "stream",
          "text": [
            "[ 0  7 19]\n",
            "[ 0  7 19]\n"
          ],
          "name": "stdout"
        }
      ]
    },
    {
      "cell_type": "markdown",
      "metadata": {
        "id": "OZB_BmBOlq9E"
      },
      "source": [
        "We can also assign to multiple elements through fancy indexing:"
      ]
    },
    {
      "cell_type": "code",
      "metadata": {
        "id": "5cTNieIElq9G",
        "colab": {
          "base_uri": "https://localhost:8080/",
          "height": 35
        },
        "outputId": "23eb02a8-d627-4d69-ee26-90157f41561d"
      },
      "source": [
        "a[idx] = -1\n",
        "print(a)"
      ],
      "execution_count": null,
      "outputs": [
        {
          "output_type": "stream",
          "text": [
            "[12 15 -1  3  3 -1  9 -1 18  4  6 12  1  6  7 14 17  5 13  8]\n"
          ],
          "name": "stdout"
        }
      ]
    },
    {
      "cell_type": "markdown",
      "metadata": {
        "id": "sly7NrQjlq9O"
      },
      "source": [
        "Fancy indexing works also for higher dimensional arrays:"
      ]
    },
    {
      "cell_type": "code",
      "metadata": {
        "id": "Z1o6Bvc2lq9R",
        "colab": {
          "base_uri": "https://localhost:8080/",
          "height": 109
        },
        "outputId": "b00e85f1-602a-4153-d22c-29cb19324160"
      },
      "source": [
        "b=np.arange(16).reshape(4,4)\n",
        "print(b)\n",
        "row=np.array([0,2])\n",
        "col=np.array([1,3])\n",
        "print(b[row, col])"
      ],
      "execution_count": null,
      "outputs": [
        {
          "output_type": "stream",
          "text": [
            "[[ 0  1  2  3]\n",
            " [ 4  5  6  7]\n",
            " [ 8  9 10 11]\n",
            " [12 13 14 15]]\n",
            "[ 1 11]\n"
          ],
          "name": "stdout"
        }
      ]
    },
    {
      "cell_type": "markdown",
      "metadata": {
        "id": "0nKAjOVvlq9m"
      },
      "source": [
        "One can also combine normal indexing, slicing and fancy indexing:"
      ]
    },
    {
      "cell_type": "code",
      "metadata": {
        "id": "PZyKJayjlq9m",
        "colab": {
          "base_uri": "https://localhost:8080/",
          "height": 90
        },
        "outputId": "e0815b51-2f81-4b70-f64b-dcf2125f6904"
      },
      "source": [
        "b[:,[0,2]]"
      ],
      "execution_count": null,
      "outputs": [
        {
          "output_type": "execute_result",
          "data": {
            "text/plain": [
              "array([[ 0,  2],\n",
              "       [ 4,  6],\n",
              "       [ 8, 10],\n",
              "       [12, 14]])"
            ]
          },
          "metadata": {
            "tags": []
          },
          "execution_count": 184
        }
      ]
    },
    {
      "cell_type": "markdown",
      "metadata": {
        "id": "N7qa13oxlq9q"
      },
      "source": [
        "## Sorting arrays\n",
        "\n"
      ]
    },
    {
      "cell_type": "code",
      "metadata": {
        "id": "a-IhZvQTlq9r",
        "colab": {
          "base_uri": "https://localhost:8080/",
          "height": 54
        },
        "outputId": "21db8d61-0b1b-4667-9e6a-1153932a40ee"
      },
      "source": [
        "a=np.array([2,1,4,3,5])\n",
        "print(np.sort(a))          # Does not modify the argument\n",
        "print(a)"
      ],
      "execution_count": null,
      "outputs": [
        {
          "output_type": "stream",
          "text": [
            "[1 2 3 4 5]\n",
            "[2 1 4 3 5]\n"
          ],
          "name": "stdout"
        }
      ]
    },
    {
      "cell_type": "code",
      "metadata": {
        "id": "dVfC6ptTlq9u",
        "colab": {
          "base_uri": "https://localhost:8080/",
          "height": 35
        },
        "outputId": "7dcd7cb9-9b57-4673-ae37-e4d73e3baa32"
      },
      "source": [
        "a.sort()            # Modifies the argument\n",
        "print(a)"
      ],
      "execution_count": null,
      "outputs": [
        {
          "output_type": "stream",
          "text": [
            "[1 2 3 4 5]\n"
          ],
          "name": "stdout"
        }
      ]
    },
    {
      "cell_type": "code",
      "metadata": {
        "id": "iNHQwTtAlq9x",
        "colab": {
          "base_uri": "https://localhost:8080/",
          "height": 90
        },
        "outputId": "7e705e28-a682-42db-c5a6-95b5072ff668"
      },
      "source": [
        "b=np.random.randint(0,10, (4,4))\n",
        "print(b)"
      ],
      "execution_count": null,
      "outputs": [
        {
          "output_type": "stream",
          "text": [
            "[[9 4 3 0]\n",
            " [3 5 0 2]\n",
            " [3 8 1 3]\n",
            " [3 3 7 0]]\n"
          ],
          "name": "stdout"
        }
      ]
    },
    {
      "cell_type": "code",
      "metadata": {
        "id": "szf6bVCXlq93",
        "colab": {
          "base_uri": "https://localhost:8080/",
          "height": 90
        },
        "outputId": "b4b49642-7d1e-4243-f479-ba208b178f8c"
      },
      "source": [
        "np.sort(b, axis=0)           # sort each column"
      ],
      "execution_count": null,
      "outputs": [
        {
          "output_type": "execute_result",
          "data": {
            "text/plain": [
              "array([[3, 3, 0, 0],\n",
              "       [3, 4, 1, 0],\n",
              "       [3, 5, 3, 2],\n",
              "       [9, 8, 7, 3]])"
            ]
          },
          "metadata": {
            "tags": []
          },
          "execution_count": 174
        }
      ]
    },
    {
      "cell_type": "code",
      "metadata": {
        "id": "x8c4ZbTslq99",
        "colab": {
          "base_uri": "https://localhost:8080/",
          "height": 90
        },
        "outputId": "21411f41-201f-4657-b37b-1ae71e11f421"
      },
      "source": [
        "np.sort(b, axis=1)           # Sort each row"
      ],
      "execution_count": null,
      "outputs": [
        {
          "output_type": "execute_result",
          "data": {
            "text/plain": [
              "array([[0, 3, 4, 9],\n",
              "       [0, 2, 3, 5],\n",
              "       [1, 3, 3, 8],\n",
              "       [0, 3, 3, 7]])"
            ]
          },
          "metadata": {
            "tags": []
          },
          "execution_count": 175
        }
      ]
    },
    {
      "cell_type": "markdown",
      "metadata": {
        "id": "sS2VNtLrlq9_"
      },
      "source": [
        "Note that each row or column is sorted independently.\n",
        "\n",
        "A related operation is the `argsort` function. Which doesn't sort the elements, but returns the indices of the sorted elements. An example will demonstrate this:"
      ]
    },
    {
      "cell_type": "code",
      "metadata": {
        "id": "hd8fPPmElq-A",
        "colab": {
          "base_uri": "https://localhost:8080/",
          "height": 54
        },
        "outputId": "4bc80178-b270-4939-e560-adc5c459dc6d"
      },
      "source": [
        "a=np.array([23,12,47,35,59])\n",
        "print(\"Array a:\", a)\n",
        "idx = np.argsort(a)\n",
        "print(\"Indices:\", idx)"
      ],
      "execution_count": null,
      "outputs": [
        {
          "output_type": "stream",
          "text": [
            "Array a: [23 12 47 35 59]\n",
            "Indices: [1 0 3 2 4]\n"
          ],
          "name": "stdout"
        }
      ]
    },
    {
      "cell_type": "markdown",
      "metadata": {
        "id": "99nFQeHYlq-D"
      },
      "source": [
        "These indices say that the smallest element of the array is in position 1 of `a`, second smallest elements is in position 0 of `a`, third smallest is in position 3, and so on. We can verify that these indices will indeed order the elements using fancy indexing:"
      ]
    },
    {
      "cell_type": "code",
      "metadata": {
        "id": "JhlNBffjlq-E",
        "colab": {
          "base_uri": "https://localhost:8080/",
          "height": 35
        },
        "outputId": "67767c8a-cde5-4991-f235-f1811e7f192a"
      },
      "source": [
        "print(a[idx])"
      ],
      "execution_count": null,
      "outputs": [
        {
          "output_type": "stream",
          "text": [
            "[12 23 35 47 59]\n"
          ],
          "name": "stdout"
        }
      ]
    },
    {
      "cell_type": "markdown",
      "metadata": {
        "id": "BLWJHWrwlq-I"
      },
      "source": [
        "#### <div class=\"alert alert-info\">Exercise 7 (most frequent first)</div>\n",
        "\n",
        "**<span style=\"color:red\">Note:</span>** This exercise is fairly difficult. \n",
        "\n",
        "Write function `most_frequent_first` that gets a two dimensional array and an index `c` of a column as parameters. The function should then return the array whose rows are sorted based on column `c`, in the following way. Rows are ordered so that those rows with the most frequent element in column `c` come first, then come the rows with the second most frequent element in column `c`, and so on. Therefore, the values outside column `c` don't affect the ordering in any way.\n",
        "\n",
        "Example of usage:\n",
        "```\n",
        "a:\n",
        " [[5 0 3 3 7 9 3 5 2 4]\n",
        " [7 6 8 8 1 6 7 7 8 1]\n",
        " [5 9 8 9 4 3 0 3 5 0]\n",
        " [2 3 8 1 3 3 3 7 0 1]\n",
        " [9 9 0 4 7 3 2 7 2 0]\n",
        " [0 4 5 5 6 8 4 1 4 9]\n",
        " [8 1 1 7 9 9 3 6 7 2]\n",
        " [0 3 5 9 4 4 6 4 4 3]\n",
        " [4 4 8 4 3 7 5 5 0 1]\n",
        " [5 9 3 0 5 0 1 2 4 2]]\n",
        "print(most_frequent_first(a, -1))\n",
        " [[4 4 8 4 3 7 5 5 0 1]\n",
        " [2 3 8 1 3 3 3 7 0 1]\n",
        " [7 6 8 8 1 6 7 7 8 1]\n",
        " [5 9 3 0 5 0 1 2 4 2]\n",
        " [8 1 1 7 9 9 3 6 7 2]\n",
        " [9 9 0 4 7 3 2 7 2 0]\n",
        " [5 9 8 9 4 3 0 3 5 0]\n",
        " [0 3 5 9 4 4 6 4 4 3]\n",
        " [0 4 5 5 6 8 4 1 4 9]\n",
        " [5 0 3 3 7 9 3 5 2 4]]\n",
        "```\n",
        "\n",
        "If we look at the last column, we see that the number 1 appears three times, then both numbers 2 and 0 appear twice, and lastly numbers 3, 9, and 4 appear only once. Note that, for example, among those rows that contain in column `c` a number that appear twice in column `c` the order can be arbitrary.\n",
        "\n",
        "Hint: the function `np.unique` may be useful.\n",
        "\n",
        "<hr/>"
      ]
    },
    {
      "cell_type": "code",
      "metadata": {
        "id": "A9hUdYA5FJkI"
      },
      "source": [
        ""
      ],
      "execution_count": null,
      "outputs": []
    },
    {
      "cell_type": "markdown",
      "metadata": {
        "id": "LAfYmMgdlCPu"
      },
      "source": [
        "## Summary \n",
        "* The efficiency of NumPy is based on the fact that the same operations can be performed on elements fast, if\n",
        "all the elements have the same type. These are called vectorized operations\n",
        "* We know how to create, reshape, perform basic access, combine, split, and aggregate arrays\n",
        "* You found that comparisons are also vectorized operations, and that the result of a comparison can be used to mask (i.e. restrict) further operations on arrays\n",
        "* You can select a list of columns using fancy indexing\n"
      ]
    }
  ]
}