{
  "nbformat": 4,
  "nbformat_minor": 0,
  "metadata": {
    "colab": {
      "name": "Pandas-HRExercise.ipynb",
      "private_outputs": true,
      "provenance": [],
      "collapsed_sections": [],
      "toc_visible": true,
      "include_colab_link": true
    },
    "kernelspec": {
      "name": "python3",
      "display_name": "Python 3"
    }
  },
  "cells": [
    {
      "cell_type": "markdown",
      "metadata": {
        "id": "view-in-github",
        "colab_type": "text"
      },
      "source": [
        "<a href=\"https://colab.research.google.com/github/mkjubran/LearnPythonIT/blob/main/Pandas_HRExercise.ipynb\" target=\"_parent\"><img src=\"https://colab.research.google.com/assets/colab-badge.svg\" alt=\"Open In Colab\"/></a>"
      ]
    },
    {
      "cell_type": "markdown",
      "metadata": {
        "id": "MzmEcNHzuBI3"
      },
      "source": [
        "# Clone the Source GitHub Reporsitory \n",
        "We need to clone some source files to be used throughtout this tutorial from the GitHub reprository"
      ]
    },
    {
      "cell_type": "code",
      "metadata": {
        "id": "TmP4GrRNudXH"
      },
      "source": [
        "!rm -rf ./MachineLearning\n",
        "!git clone https://github.com/mkjubran/MachineLearning.git"
      ],
      "execution_count": null,
      "outputs": []
    },
    {
      "cell_type": "markdown",
      "metadata": {
        "id": "BH1COvVuXwR5"
      },
      "source": [
        "# HR Analysis Exercise\n",
        "\n",
        "In this section, we will analyze the data of employees of a company. This data includes some information about the employees who are working at the company and those who left the company. Our objective is to apply exploratory Data Analysis to determine which information is more relevant to the decision of employees to stay or leave the company. The features will be used later in the machine learning tutorial to predict whether an existing employee would leave the company based on his/her current status.$^{[1]}$\n",
        "\n",
        "[1] https://codebasicshub.com/tutorial/machine-learning/logistic-regression-binary-classification"
      ]
    },
    {
      "cell_type": "markdown",
      "metadata": {
        "id": "2eR70Y6nbQYs"
      },
      "source": [
        "**Implementation**\n",
        "\n",
        "Read the input data from the csv file (HR_comma_sep.csv) file. Dataset is downloaded from Kaggle. Link: https://www.kaggle.com/giripujar/hr-analytics. Use the pandas library (https://pandas.pydata.org/) to read the data from the file."
      ]
    },
    {
      "cell_type": "code",
      "metadata": {
        "id": "7ZrjhWA3YRcE"
      },
      "source": [
        "import pandas as pd\n",
        "HR = pd.read_csv('./MachineLearning/2_logistic/HR_comma_sep.csv')\n",
        "HR.head()"
      ],
      "execution_count": null,
      "outputs": []
    },
    {
      "cell_type": "markdown",
      "metadata": {
        "id": "SEVwPozTbhm6"
      },
      "source": [
        "To use numpy for EDA, the data should be converted to numpy array."
      ]
    },
    {
      "cell_type": "code",
      "metadata": {
        "id": "Yo837uyXcXDE"
      },
      "source": [
        "import numpy as np\n",
        "HRnp = np.array(HR)"
      ],
      "execution_count": null,
      "outputs": []
    },
    {
      "cell_type": "markdown",
      "metadata": {
        "id": "R61IR-gJdNQQ"
      },
      "source": [
        "1- How many employees left the compnay in the dataset?  "
      ]
    },
    {
      "cell_type": "code",
      "metadata": {
        "id": "Cc3sErqAdKap"
      },
      "source": [
        "# write your code here"
      ],
      "execution_count": null,
      "outputs": []
    },
    {
      "cell_type": "markdown",
      "metadata": {
        "id": "RCdgFog5dAmn"
      },
      "source": [
        "2- What is the percentage of employees who left the company?"
      ]
    },
    {
      "cell_type": "code",
      "metadata": {
        "id": "_1I5Z7CPdOYr"
      },
      "source": [
        "# write your code here"
      ],
      "execution_count": null,
      "outputs": []
    },
    {
      "cell_type": "markdown",
      "metadata": {
        "id": "8GvysNLodJlk"
      },
      "source": [
        "3- The administration says that employees who remain in the company has higher satisfaction_level and thus it is a good indicator for our regression/classifier (good feature). Is this true?"
      ]
    },
    {
      "cell_type": "code",
      "metadata": {
        "id": "qIAOM7v6dcVB"
      },
      "source": [
        "# write your code here"
      ],
      "execution_count": null,
      "outputs": []
    },
    {
      "cell_type": "markdown",
      "metadata": {
        "id": "dAoZf4smdiI1"
      },
      "source": [
        "4- The administration says that the last_evaluation, number of projects, and time_spend_company scores are almost independent of the employees remain or leave the company. Is this true?"
      ]
    },
    {
      "cell_type": "code",
      "metadata": {
        "id": "2Cj9sqJPdsj4"
      },
      "source": [
        "# write your code here"
      ],
      "execution_count": null,
      "outputs": []
    },
    {
      "cell_type": "markdown",
      "metadata": {
        "id": "LvMQMz_Udxpt"
      },
      "source": [
        "5- The administration claims that the promotion_last_5years feature of employees remaining in the company is much higher than those left the company (good feature). Is this true?"
      ]
    },
    {
      "cell_type": "code",
      "metadata": {
        "id": "R3O-pOPdd5e8"
      },
      "source": [
        "# write your code here"
      ],
      "execution_count": null,
      "outputs": []
    },
    {
      "cell_type": "markdown",
      "metadata": {
        "id": "geQBnagrduRo"
      },
      "source": [
        "6- The Work_accident is an indicator for the decision of employees to leave/stay in the company and this is a good feature. Is this true?"
      ]
    },
    {
      "cell_type": "code",
      "metadata": {
        "id": "vJ9ubSbdeOfB"
      },
      "source": [
        "# write your code here"
      ],
      "execution_count": null,
      "outputs": []
    },
    {
      "cell_type": "markdown",
      "metadata": {
        "id": "XKNjD8TCeW3f"
      },
      "source": [
        "7- The data shows that emloyees with high salaries are more likely to stay in the company. So it is a good feature. What do you think?"
      ]
    },
    {
      "cell_type": "code",
      "metadata": {
        "id": "bNujY40Lehjv"
      },
      "source": [
        "# write your code here"
      ],
      "execution_count": null,
      "outputs": []
    },
    {
      "cell_type": "markdown",
      "metadata": {
        "id": "kWOZE5NBy5ru"
      },
      "source": [
        "8- In the previous point you showed that emloyees with high salaries are more likely to stay in the company. Create a bar plot to visualize this."
      ]
    },
    {
      "cell_type": "code",
      "metadata": {
        "id": "6xIPIbJ5965b"
      },
      "source": [
        "# write your code here"
      ],
      "execution_count": null,
      "outputs": []
    },
    {
      "cell_type": "markdown",
      "metadata": {
        "id": "rT1gQWr30YT0"
      },
      "source": [
        "9- The department type has a minor effect on the decision of employees to stay or leave the company. Create a bar plot to visualize this."
      ]
    },
    {
      "cell_type": "code",
      "metadata": {
        "id": "Xa0dwgwqfQoG"
      },
      "source": [
        "# write your code here"
      ],
      "execution_count": null,
      "outputs": []
    }
  ]
}